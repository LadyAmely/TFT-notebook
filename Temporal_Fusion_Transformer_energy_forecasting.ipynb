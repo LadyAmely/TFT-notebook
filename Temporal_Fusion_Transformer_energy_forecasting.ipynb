{
  "nbformat": 4,
  "nbformat_minor": 0,
  "metadata": {
    "colab": {
      "provenance": [],
      "toc_visible": true,
      "authorship_tag": "ABX9TyMTRhGi/URNwjftC2OavROZ",
      "include_colab_link": true
    },
    "kernelspec": {
      "name": "python3",
      "display_name": "Python 3"
    },
    "language_info": {
      "name": "python"
    }
  },
  "cells": [
    {
      "cell_type": "markdown",
      "metadata": {
        "id": "view-in-github",
        "colab_type": "text"
      },
      "source": [
        "<a href=\"https://colab.research.google.com/github/LadyAmely/TFT-notebook/blob/main/Temporal_Fusion_Transformer_energy_forecasting.ipynb\" target=\"_parent\"><img src=\"https://colab.research.google.com/assets/colab-badge.svg\" alt=\"Open In Colab\"/></a>"
      ]
    },
    {
      "cell_type": "code",
      "execution_count": null,
      "metadata": {
        "id": "f_FpVsgYSxMS"
      },
      "outputs": [],
      "source": [
        "import pandas as pd\n",
        "import numpy as np"
      ]
    },
    {
      "cell_type": "code",
      "source": [
        "df = pd.read_csv(\"/content/energy_df.csv\")\n",
        "df"
      ],
      "metadata": {
        "id": "x99zI-aWTB7K"
      },
      "execution_count": null,
      "outputs": []
    },
    {
      "cell_type": "markdown",
      "source": [
        "Sprawdzenie, czy istnieją brakujące dane"
      ],
      "metadata": {
        "id": "bfG2_IJ8VQMI"
      }
    },
    {
      "cell_type": "code",
      "source": [
        "missing_data = df.isnull().sum()\n",
        "missing_data"
      ],
      "metadata": {
        "id": "2Xbrh0PrUapF"
      },
      "execution_count": null,
      "outputs": []
    },
    {
      "cell_type": "markdown",
      "source": [
        "Wyświetlenie statystyk opisowych"
      ],
      "metadata": {
        "id": "iIwzv-4WV58o"
      }
    },
    {
      "cell_type": "code",
      "source": [
        "df.describe()"
      ],
      "metadata": {
        "id": "bTj0KY9UV3bR"
      },
      "execution_count": null,
      "outputs": []
    },
    {
      "cell_type": "markdown",
      "source": [
        "Wyświetlenie informacji o DataFrame"
      ],
      "metadata": {
        "id": "4fxiDWccWLFL"
      }
    },
    {
      "cell_type": "code",
      "source": [
        "df.info()"
      ],
      "metadata": {
        "id": "5WKbxAQbUqbi"
      },
      "execution_count": null,
      "outputs": []
    },
    {
      "cell_type": "markdown",
      "source": [
        "Usuwanie duplikatów"
      ],
      "metadata": {
        "id": "SgRbcGf5WQxK"
      }
    },
    {
      "cell_type": "code",
      "source": [
        "duplicates = df.duplicated().sum()\n",
        "duplicates"
      ],
      "metadata": {
        "id": "oQsgLtQ2U6bN"
      },
      "execution_count": null,
      "outputs": []
    },
    {
      "cell_type": "code",
      "source": [
        "df = df.drop_duplicates()"
      ],
      "metadata": {
        "id": "1TedK6-nVLZ6"
      },
      "execution_count": null,
      "outputs": []
    },
    {
      "cell_type": "code",
      "source": [
        "n = len(df)\n",
        "df = df.tail(int(n * 0.3))"
      ],
      "metadata": {
        "id": "RtO7ctaQmqR9"
      },
      "execution_count": null,
      "outputs": []
    },
    {
      "cell_type": "code",
      "source": [
        "df"
      ],
      "metadata": {
        "id": "KgP_D48ym02w"
      },
      "execution_count": null,
      "outputs": []
    },
    {
      "cell_type": "code",
      "source": [
        "!pip install lightning"
      ],
      "metadata": {
        "id": "3brc3lHsWTdi"
      },
      "execution_count": null,
      "outputs": []
    },
    {
      "cell_type": "code",
      "source": [
        "!pip install pytorch-forecasting"
      ],
      "metadata": {
        "id": "W5EgkG3AXDwF"
      },
      "execution_count": null,
      "outputs": []
    },
    {
      "cell_type": "code",
      "source": [
        "!pip install optuna-integration"
      ],
      "metadata": {
        "id": "4cZQSlzLX-h5"
      },
      "execution_count": null,
      "outputs": []
    },
    {
      "cell_type": "code",
      "source": [
        "import lightning.pytorch as pl\n",
        "from lightning.pytorch.callbacks import EarlyStopping, LearningRateMonitor\n",
        "from lightning.pytorch.loggers import TensorBoardLogger\n",
        "import torch"
      ],
      "metadata": {
        "id": "RAfFI4LzY3yn"
      },
      "execution_count": null,
      "outputs": []
    },
    {
      "cell_type": "code",
      "source": [
        "from pytorch_lightning import Trainer\n",
        "from pytorch_lightning.loggers import TensorBoardLogger\n",
        "from pytorch_forecasting.data import GroupNormalizer\n",
        "from pytorch_forecasting.metrics import MAE, SMAPE, PoissonLoss, QuantileLoss"
      ],
      "metadata": {
        "id": "Y9aMagscY_4C"
      },
      "execution_count": null,
      "outputs": []
    },
    {
      "cell_type": "code",
      "source": [
        "from pytorch_forecasting import Baseline, TemporalFusionTransformer, TimeSeriesDataSet"
      ],
      "metadata": {
        "id": "voXcmCtFZFOg"
      },
      "execution_count": null,
      "outputs": []
    },
    {
      "cell_type": "code",
      "source": [
        "df[\"Time\"] = pd.to_datetime(df[\"Time\"])\n",
        "df[\"Time\"]"
      ],
      "metadata": {
        "id": "0l8zT3ZCZiip"
      },
      "execution_count": null,
      "outputs": []
    },
    {
      "cell_type": "code",
      "source": [
        "df[\"time_idx\"] = (df[\"Time\"] - df[\"Time\"].min()).dt.days\n",
        "df[\"time_idx\"]"
      ],
      "metadata": {
        "id": "Djm2j_dOaJ8w"
      },
      "execution_count": null,
      "outputs": []
    },
    {
      "cell_type": "code",
      "source": [
        "first_day = df[\"Time\"].min().date()\n",
        "last_day = df[\"Time\"].max().date()"
      ],
      "metadata": {
        "id": "zzkhEs-adUmN"
      },
      "execution_count": null,
      "outputs": []
    },
    {
      "cell_type": "code",
      "source": [
        "number_of_days = (last_day - first_day).days + 1\n",
        "number_of_days"
      ],
      "metadata": {
        "id": "r5X1PA9heGzU"
      },
      "execution_count": null,
      "outputs": []
    },
    {
      "cell_type": "code",
      "source": [
        "max_encoder_length = 365\n",
        "min_encoder_length = 250\n",
        "max_prediction_length = 30\n",
        "min_prediction_length = 7"
      ],
      "metadata": {
        "id": "7s8QZ_5QebbQ"
      },
      "execution_count": null,
      "outputs": []
    },
    {
      "cell_type": "code",
      "source": [
        "training_cutoff = df[\"time_idx\"].max() - max_prediction_length\n",
        "training_cutoff"
      ],
      "metadata": {
        "id": "HIcZtOu6efoq"
      },
      "execution_count": null,
      "outputs": []
    },
    {
      "cell_type": "code",
      "source": [
        "df[\"group_id\"] = 0"
      ],
      "metadata": {
        "id": "SGKNQY8Me7HB"
      },
      "execution_count": null,
      "outputs": []
    },
    {
      "cell_type": "code",
      "source": [
        "df[\"Day_of_Week\"] = df[\"Time\"].dt.dayofweek.astype(str)\n",
        "df[\"Month\"] = df[\"Time\"].dt.month.astype(str)\n",
        "df[\"Season\"] = ((df[\"Time\"].dt.month % 12 + 3) // 3).astype(str)\n",
        "\n",
        "training = TimeSeriesDataSet(\n",
        "    df[lambda x: x.time_idx <= training_cutoff],\n",
        "    time_idx=\"time_idx\",\n",
        "    target=\"Total Generation(MWh)\",\n",
        "    group_ids=[\"group_id\"],\n",
        "    min_encoder_length=min_encoder_length,\n",
        "    max_encoder_length=max_encoder_length,\n",
        "    min_prediction_length=min_prediction_length,\n",
        "    max_prediction_length=max_prediction_length,\n",
        "    static_categoricals=[],\n",
        "    static_reals=[],\n",
        "    time_varying_known_categoricals=[\"Day_of_Week\", \"Month\", \"Season\"],\n",
        "    time_varying_known_reals=[\n",
        "        \"Natural Gas\", \"Hydro Water Reservoir\", \"Lignite\", \"Hydro Run-of-river\",\n",
        "        \"Imported Coal\", \"Wind\", \"Solar\", \"Fuel Oil\", \"Geothermal\", \"Asphaltite Coal\",\n",
        "        \"Hard Coal\", \"Biomass\", \"Naphtha\", \"Liquefied Natural Gas\",\n",
        "        \"International\", \"Waste\", \"Load\"\n",
        "    ],\n",
        "    time_varying_unknown_categoricals=[],\n",
        "    time_varying_unknown_reals=[\"Total Generation(MWh)\"],\n",
        "    target_normalizer=GroupNormalizer(\n",
        "        groups=[\"group_id\"], transformation=\"softplus\"\n",
        "    ),\n",
        "    add_relative_time_idx=True,\n",
        "    add_target_scales=True,\n",
        "    add_encoder_length=True,\n",
        "    allow_missing_timesteps=True\n",
        ")"
      ],
      "metadata": {
        "id": "FTYsygWLibpH"
      },
      "execution_count": null,
      "outputs": []
    },
    {
      "cell_type": "code",
      "source": [
        "validation = TimeSeriesDataSet.from_dataset(training, df, predict=True, stop_randomization=True)"
      ],
      "metadata": {
        "id": "LIRCZhkci0DE"
      },
      "execution_count": null,
      "outputs": []
    },
    {
      "cell_type": "code",
      "source": [
        "batch_size = 16\n",
        "train_dataloader = training.to_dataloader(train=True, batch_size=batch_size, num_workers=0)\n",
        "val_dataloader = validation.to_dataloader(train=False, batch_size=batch_size * 10, num_workers=0)"
      ],
      "metadata": {
        "id": "sxzk0AkFjxoZ"
      },
      "execution_count": null,
      "outputs": []
    },
    {
      "cell_type": "code",
      "source": [
        "baseline_predictions = Baseline().predict(val_dataloader, return_y=True)\n",
        "MAE()(baseline_predictions.output, baseline_predictions.y)"
      ],
      "metadata": {
        "id": "aXThl3Ooj2IR"
      },
      "execution_count": null,
      "outputs": []
    },
    {
      "cell_type": "code",
      "source": [
        "test_cutoff = df[\"time_idx\"].max() - max_prediction_length\n",
        "\n",
        "test_cutoff = test_cutoff - (training.min_encoder_length + training.min_prediction_length)\n",
        "\n",
        "test = TimeSeriesDataSet.from_dataset(\n",
        "    training,\n",
        "    df[lambda x: x.time_idx > test_cutoff],\n",
        "    predict=True,\n",
        "    stop_randomization=True\n",
        ")"
      ],
      "metadata": {
        "id": "9BMakrSmkimJ"
      },
      "execution_count": null,
      "outputs": []
    },
    {
      "cell_type": "code",
      "source": [
        "test_dataloader = test.to_dataloader(train=False, batch_size=batch_size * 10, num_workers=0)"
      ],
      "metadata": {
        "id": "AsVqHd6zkoNZ"
      },
      "execution_count": null,
      "outputs": []
    },
    {
      "cell_type": "code",
      "source": [
        "pl.seed_everything(42)\n",
        "trainer = pl.Trainer(\n",
        "    max_epochs=10,\n",
        "    accelerator=\"cpu\",\n",
        "    gradient_clip_val=0.1,\n",
        "     log_every_n_steps=1\n",
        ")"
      ],
      "metadata": {
        "id": "Zf1yzy6qkshr"
      },
      "execution_count": null,
      "outputs": []
    },
    {
      "cell_type": "code",
      "source": [
        "early_stop_callback = EarlyStopping(monitor=\"val_loss\", patience=10, verbose=True, mode=\"min\")\n",
        "lr_monitor = LearningRateMonitor(logging_interval='step')"
      ],
      "metadata": {
        "id": "gy5qZ-xulDiY"
      },
      "execution_count": null,
      "outputs": []
    }
  ]
}